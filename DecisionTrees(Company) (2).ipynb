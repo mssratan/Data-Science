{
  "nbformat": 4,
  "nbformat_minor": 0,
  "metadata": {
    "colab": {
      "private_outputs": true,
      "provenance": []
    },
    "kernelspec": {
      "name": "python3",
      "display_name": "Python 3"
    },
    "language_info": {
      "name": "python"
    }
  },
  "cells": [
    {
      "cell_type": "code",
      "execution_count": null,
      "metadata": {
        "id": "LqJ6gNARVE6T"
      },
      "outputs": [],
      "source": [
        "import pandas as pd\n",
        "import numpy as np\n",
        "import matplotlib.pyplot as plt\n",
        "import seaborn as sns\n",
        "import warnings\n",
        "from sklearn.metrics import accuracy_score\n",
        "warnings.filterwarnings(\"ignore\")\n",
        "from sklearn.tree import  DecisionTreeClassifier\n",
        "from sklearn import tree\n",
        "from sklearn.model_selection import train_test_split"
      ]
    },
    {
      "cell_type": "code",
      "source": [
        "df=pd.read_csv(\"/content/Company_Data.csv\")\n",
        "df.shape\n",
        "df.info()"
      ],
      "metadata": {
        "id": "fLTeZBr1VVBO"
      },
      "execution_count": null,
      "outputs": []
    },
    {
      "cell_type": "code",
      "source": [
        "df.head()\n"
      ],
      "metadata": {
        "id": "kvLG5hA3VU92"
      },
      "execution_count": null,
      "outputs": []
    },
    {
      "cell_type": "code",
      "source": [
        "#For three categories lets divide the Sales values with Quartiles , less than first quartile as Low , between Second Quartile as Medium and above Third Quartile as High\n",
        "df.Sales.max()\n",
        "\n",
        "16.270/3"
      ],
      "metadata": {
        "id": "Obdt3Ik-VU6-"
      },
      "execution_count": null,
      "outputs": []
    },
    {
      "cell_type": "code",
      "source": [
        "16.270/3"
      ],
      "metadata": {
        "id": "wUTfytnBVU4v"
      },
      "execution_count": null,
      "outputs": []
    },
    {
      "cell_type": "code",
      "source": [
        "5.423333333333333*2"
      ],
      "metadata": {
        "id": "EU2xCG3waMcc"
      },
      "execution_count": null,
      "outputs": []
    },
    {
      "cell_type": "code",
      "source": [
        "5.423333333333333*3"
      ],
      "metadata": {
        "id": "bTebfM27aPcG"
      },
      "execution_count": null,
      "outputs": []
    },
    {
      "cell_type": "code",
      "source": [
        "df1=df.copy()\n",
        "df1['Sales_cat'] = pd.cut(x = df1['Sales'], bins = [0,5.39,9.46,17], labels=['Low','Medium','High'], right = False)\n",
        "df1.head()"
      ],
      "metadata": {
        "id": "7OZh2J6laSl6"
      },
      "execution_count": null,
      "outputs": []
    },
    {
      "cell_type": "code",
      "source": [
        "df1.Sales_cat.value_counts()"
      ],
      "metadata": {
        "id": "ouZvP9TMarFj"
      },
      "execution_count": null,
      "outputs": []
    },
    {
      "cell_type": "code",
      "source": [
        "sns.heatmap(df.corr(), annot=True, fmt='.2g', cmap=\"viridis\",  linewidths=0.5, linecolor='black')"
      ],
      "metadata": {
        "id": "ElkR1Zebb-4g"
      },
      "execution_count": null,
      "outputs": []
    },
    {
      "cell_type": "code",
      "source": [
        "ot=df1.copy()\n",
        "fig, axes=plt.subplots(8,1,figsize=(14,10),sharex=False,sharey=False)\n",
        "sns.boxplot(x='Sales',data=ot,palette='crest',ax=axes[0])\n",
        "sns.boxplot(x='CompPrice',data=ot,palette='crest',ax=axes[1])\n",
        "sns.boxplot(x='Income',data=ot,palette='crest',ax=axes[2])\n",
        "sns.boxplot(x='Advertising',data=ot,palette='crest',ax=axes[3])\n",
        "sns.boxplot(x='Population',data=ot,palette='crest',ax=axes[4])\n",
        "sns.boxplot(x='Price',data=ot,palette='crest',ax=axes[5])\n",
        "sns.boxplot(x='Age',data=ot,palette='crest',ax=axes[6])\n",
        "sns.boxplot(x='Education',data=ot,palette='crest',ax=axes[7])\n",
        "plt.tight_layout(pad=2.0)"
      ],
      "metadata": {
        "id": "uVn7fbrNarDK"
      },
      "execution_count": null,
      "outputs": []
    },
    {
      "cell_type": "code",
      "source": [
        "#Outliers\n",
        "\"\"\"removing the ouliers\"\"\"\n",
        "# List of column names with continuous variables\n",
        "continuous_columns = [  \"CompPrice\" , \"Price\" ]\n",
        "# Create a new DataFrame without outliers for each continuous column\n",
        "data_without_outliers = df1.copy()\n",
        "for columns in continuous_columns:\n",
        "    Q1 = data_without_outliers[columns].quantile(0.25)\n",
        "    Q3 = data_without_outliers[columns].quantile(0.75)\n",
        "    IQR = Q3 - Q1\n",
        "    lower_whisker_Length = Q1 - 1.5 * IQR\n",
        "    upper_whisker_Length = Q3 + 1.5 * IQR\n",
        "    data_without_outliers = data_without_outliers[(data_without_outliers[columns] >= lower_whisker_Length) & (data_without_outliers[columns]<= upper_whisker_Length)]\n",
        "# Print the cleaned data without outliers\n",
        "print(data_without_outliers)\n",
        "df1 = data_without_outliers"
      ],
      "metadata": {
        "id": "OJWZtICcarA9"
      },
      "execution_count": null,
      "outputs": []
    },
    {
      "cell_type": "code",
      "source": [
        "df1.drop(\"Sales\",axis=1 ,inplace=True)"
      ],
      "metadata": {
        "id": "nSomi-NHeI-f"
      },
      "execution_count": null,
      "outputs": []
    },
    {
      "cell_type": "code",
      "source": [
        "#Label Encoding\n",
        "from sklearn.preprocessing import LabelEncoder\n",
        "LE=LabelEncoder()\n",
        "\n",
        "df1[\"ShelveLoc\"]=LE.fit_transform(df1[\"ShelveLoc\"])\n",
        "df1[\"Urban\"]=LE.fit_transform(df1[\"Urban\"])\n",
        "df1[\"US\"]=LE.fit_transform(df1[\"US\"])\n",
        "df1[\"Sales_cat\"]=LE.fit_transform(df1[\"Sales_cat\"])\n",
        "\n",
        "df1.head()"
      ],
      "metadata": {
        "id": "cInJECw9f7_y"
      },
      "execution_count": null,
      "outputs": []
    },
    {
      "cell_type": "code",
      "source": [
        "#Data Spliting\n",
        "\n",
        "X=df1.iloc[:,0:10]\n",
        "Y=df1[[\"Sales_cat\"]]\n"
      ],
      "metadata": {
        "id": "nVMKW4m_f78Y"
      },
      "execution_count": null,
      "outputs": []
    },
    {
      "cell_type": "code",
      "source": [
        "# data partition\n",
        "from sklearn.model_selection import train_test_split\n",
        "X_train,X_test,Y_train,Y_test  = train_test_split(X,Y, test_size=0.30)\n",
        "\n",
        "\n",
        "from sklearn.tree import DecisionTreeClassifier\n",
        "DT = DecisionTreeClassifier(max_depth=6)\n",
        "\n",
        "DT.fit(X_train,Y_train) # Bo + b1x1 + B2x2\n",
        "Y_pred_train = DT.predict(X_train)\n",
        "Y_pred_test = DT.predict(X_test)\n",
        "training_accuracy = accuracy_score(Y_train,Y_pred_train).round(3)\n",
        "test_accuracy = accuracy_score(Y_test,Y_pred_test).round(3)\n",
        "\n",
        "print(training_accuracy)\n",
        "print(test_accuracy)\n",
        "\n",
        "print(\"Number of Nodes\",DT.tree_.node_count)\n",
        "print(\"Level of Depth\",DT.tree_.max_depth)\n"
      ],
      "metadata": {
        "id": "e4cHKMV2f76S"
      },
      "execution_count": null,
      "outputs": []
    },
    {
      "cell_type": "code",
      "source": [
        "# validation set method --> validaton hold-off method\n",
        "training_accuracy = []\n",
        "test_accuracy = []\n",
        "Tr = []\n",
        "Ts = []\n",
        "\n",
        "DT = DecisionTreeClassifier(max_depth=6)\n",
        "\n",
        "\n",
        "for i in range(1,101,1):\n",
        "    X_train,X_test,Y_train,Y_test  = train_test_split(X,Y, test_size=0.30, random_state=i)\n",
        "    DT.fit(X_train,Y_train)\n",
        "    Y_pred_train = DT.predict(X_train)\n",
        "    Y_pred_test = DT.predict(X_test)\n",
        "    training_accuracy.append(accuracy_score(Y_train,Y_pred_train).round(3))\n",
        "    test_accuracy.append(accuracy_score(Y_test,Y_pred_test).round(3))\n",
        "\n",
        "import numpy as np\n",
        "print(\"Average trianing accuray\",np.mean(training_accuracy).round(2))\n",
        "print(\"Average test accuray\",np.mean(test_accuracy).round(2))\n"
      ],
      "metadata": {
        "id": "c1-4a-ezjXzg"
      },
      "execution_count": null,
      "outputs": []
    },
    {
      "cell_type": "code",
      "source": [
        "#Building Decision Tree Classifier using Entropy Criteria with Alpha values Post Pruning\n",
        "df1_entropy = DecisionTreeClassifier(criterion='entropy', random_state=0)\n",
        "df1_entropy.fit(X_train,Y_train)\n",
        "\n",
        "Y_pred_train = df1_entropy.predict(X_train)\n",
        "Y_pred_test = df1_entropy.predict(X_test)\n",
        "training_accuracy = accuracy_score(Y_train,Y_pred_train).round(3)\n",
        "test_accuracy = accuracy_score(Y_test,Y_pred_test).round(3)\n",
        "\n",
        "print(training_accuracy)\n",
        "print(test_accuracy)\n"
      ],
      "metadata": {
        "id": "WL0KBvb1jXlE"
      },
      "execution_count": null,
      "outputs": []
    },
    {
      "cell_type": "code",
      "source": [
        "plt.figure(figsize=(12,8),dpi=500)\n",
        "tree.plot_tree(df1_entropy,filled=True)\n",
        "plt.show()"
      ],
      "metadata": {
        "id": "4u9rH6Brnyg2"
      },
      "execution_count": null,
      "outputs": []
    },
    {
      "cell_type": "code",
      "source": [
        "path = df1_entropy.cost_complexity_pruning_path(X_train, Y_train)\n",
        "ccp_alphas = path.ccp_alphas\n",
        "impurities = path.impurities\n",
        "\n",
        "clfs = []\n",
        "for ccp_alpha in ccp_alphas:\n",
        "    clf = DecisionTreeClassifier(criterion='entropy',random_state=0, ccp_alpha=ccp_alpha)\n",
        "    clf.fit(X_train, Y_train)\n",
        "    clfs.append(clf)\n",
        "print(\"Number of nodes in the last tree is: {} with ccp_alpha: {}\".format(clfs[-1].tree_.node_count, ccp_alphas[-1]))"
      ],
      "metadata": {
        "id": "TC5ffjjMmgdc"
      },
      "execution_count": null,
      "outputs": []
    },
    {
      "cell_type": "code",
      "source": [
        "#Accuracy vs alpha for training and testing sets\n",
        "\n",
        "train_scores = [clf.score(X_train, Y_train) for clf in clfs]\n",
        "test_scores = [clf.score(X_test, Y_test) for clf in clfs]\n",
        "\n",
        "fig, ax = plt.subplots(figsize=(16,9))\n",
        "ax.set_xlabel(\"alpha\")\n",
        "ax.set_ylabel(\"accuracy\")\n",
        "ax.set_title(\"Accuracy vs alpha for training and testing sets\")\n",
        "ax.plot(ccp_alphas, train_scores, marker='o', label=\"train\",\n",
        "        drawstyle=\"steps-post\")\n",
        "ax.plot(ccp_alphas, test_scores, marker='o', label=\"test\",\n",
        "        drawstyle=\"steps-post\")\n",
        "ax.legend()\n",
        "plt.show()"
      ],
      "metadata": {
        "id": "ht_vnh_Op4_h"
      },
      "execution_count": null,
      "outputs": []
    },
    {
      "cell_type": "code",
      "source": [
        "#Choosing the best value of cc_alpha where the testing and training accuracy are almost same or near or closer to each other\n",
        "clf = DecisionTreeClassifier(criterion='entropy',random_state=0, ccp_alpha=0.02876)\n",
        "clf.fit(X_train,Y_train)\n",
        "\n",
        "Y_pred_train = clf.predict(X_train)\n",
        "Y_pred_test = clf.predict(X_test)\n",
        "training_accuracy = accuracy_score(Y_train,Y_pred_train).round(3)\n",
        "test_accuracy = accuracy_score(Y_test,Y_pred_test).round(3)\n",
        "\n",
        "print(training_accuracy)\n",
        "print(test_accuracy)\n"
      ],
      "metadata": {
        "id": "PByX8BG8sbAA"
      },
      "execution_count": null,
      "outputs": []
    },
    {
      "cell_type": "code",
      "source": [
        "plt.figure(figsize=(15,10))\n",
        "tree.plot_tree(clf,filled=True)\n",
        "plt.show()"
      ],
      "metadata": {
        "id": "oRsbyA7ysa8p"
      },
      "execution_count": null,
      "outputs": []
    },
    {
      "cell_type": "code",
      "source": [
        "#Building Decision Tree Classifier using Gini Criteria with Alpha values Post Pruning\n",
        "\n",
        "df1_gini = DecisionTreeClassifier(criterion='gini', random_state=0)\n",
        "df1_gini.fit(X_train,Y_train)\n",
        "\n",
        "Y_pred_train = df1_gini.predict(X_train)\n",
        "Y_pred_test = df1_gini.predict(X_test)\n",
        "training_accuracy = accuracy_score(Y_train,Y_pred_train).round(3)\n",
        "test_accuracy = accuracy_score(Y_test,Y_pred_test).round(3)\n",
        "\n",
        "print(training_accuracy)\n",
        "print(test_accuracy)\n",
        "\n"
      ],
      "metadata": {
        "id": "kICAwJ5Zsa5S"
      },
      "execution_count": null,
      "outputs": []
    },
    {
      "cell_type": "code",
      "source": [
        "plt.figure(figsize=(12,8),dpi=500)\n",
        "tree.plot_tree(df1_gini,filled=True)\n",
        "plt.show()"
      ],
      "metadata": {
        "id": "vphhdRjgsawd"
      },
      "execution_count": null,
      "outputs": []
    },
    {
      "cell_type": "code",
      "source": [
        "path = df1_gini.cost_complexity_pruning_path(X_train, Y_train)\n",
        "ccp_alphas = path.ccp_alphas\n",
        "impurities = path.impurities\n",
        "\n",
        "clfs = []\n",
        "for ccp_alpha in ccp_alphas:\n",
        "    clf = DecisionTreeClassifier(criterion='gini',random_state=0, ccp_alpha=ccp_alpha)\n",
        "    clf.fit(X_train, Y_train)\n",
        "    clfs.append(clf)\n",
        "print(\"Number of nodes in the last tree is: {} with ccp_alpha: {}\".format(clfs[-1].tree_.node_count, ccp_alphas[-1]))"
      ],
      "metadata": {
        "id": "niXG5zAQt8Lw"
      },
      "execution_count": null,
      "outputs": []
    },
    {
      "cell_type": "code",
      "source": [
        "#Accuracy vs alpha for training and testing sets\n",
        "\n",
        "train_scores = [clf.score(X_train, Y_train) for clf in clfs]\n",
        "test_scores = [clf.score(X_test, Y_test) for clf in clfs]\n",
        "\n",
        "fig, ax = plt.subplots(figsize=(16,9))\n",
        "ax.set_xlabel(\"alpha\")\n",
        "ax.set_ylabel(\"accuracy\")\n",
        "ax.set_title(\"Accuracy vs alpha for training and testing sets\")\n",
        "ax.plot(ccp_alphas, train_scores, marker='o', label=\"train\",\n",
        "        drawstyle=\"steps-post\")\n",
        "ax.plot(ccp_alphas, test_scores, marker='o', label=\"test\",\n",
        "        drawstyle=\"steps-post\")\n",
        "ax.legend()\n",
        "plt.show()"
      ],
      "metadata": {
        "id": "YOgSf20OuW0u"
      },
      "execution_count": null,
      "outputs": []
    },
    {
      "cell_type": "code",
      "source": [
        "#Choosing the best value of cc_alpha where the testing and training accuracy are almost same or near or closer to each other\n",
        "clf = DecisionTreeClassifier(criterion='gini',random_state=0, ccp_alpha=0.01567)\n",
        "clf.fit(X_train,Y_train)\n",
        "\n",
        "Y_pred_train = clf.predict(X_train)\n",
        "Y_pred_test = clf.predict(X_test)\n",
        "training_accuracy = accuracy_score(Y_train,Y_pred_train).round(3)\n",
        "test_accuracy = accuracy_score(Y_test,Y_pred_test).round(3)\n",
        "\n",
        "print(training_accuracy)\n",
        "print(test_accuracy)"
      ],
      "metadata": {
        "id": "FpUP7uKlus4Q"
      },
      "execution_count": null,
      "outputs": []
    },
    {
      "cell_type": "code",
      "source": [
        "plt.figure(figsize=(15,10))\n",
        "tree.plot_tree(clf,filled=True)\n",
        "plt.show()"
      ],
      "metadata": {
        "id": "nQOizIX-vO8P"
      },
      "execution_count": null,
      "outputs": []
    },
    {
      "cell_type": "code",
      "source": [],
      "metadata": {
        "id": "eUzZGBpWvUcj"
      },
      "execution_count": null,
      "outputs": []
    }
  ]
}