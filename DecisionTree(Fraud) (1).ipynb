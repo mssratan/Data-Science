{
  "nbformat": 4,
  "nbformat_minor": 0,
  "metadata": {
    "colab": {
      "private_outputs": true,
      "provenance": []
    },
    "kernelspec": {
      "name": "python3",
      "display_name": "Python 3"
    },
    "language_info": {
      "name": "python"
    }
  },
  "cells": [
    {
      "cell_type": "code",
      "execution_count": null,
      "metadata": {
        "id": "umO5gtL5VD9f"
      },
      "outputs": [],
      "source": [
        "import pandas as pd\n",
        "import numpy as np\n",
        "import matplotlib.pyplot as plt\n",
        "import seaborn as sns\n",
        "import warnings\n",
        "from sklearn.metrics import accuracy_score\n",
        "warnings.filterwarnings(\"ignore\")\n",
        "from sklearn.tree import  DecisionTreeClassifier\n",
        "from sklearn import tree\n",
        "from sklearn.model_selection import train_test_split"
      ]
    },
    {
      "cell_type": "code",
      "source": [
        "df=pd.read_csv(\"/content/Fraud_check.csv\")\n",
        "df.info()\n",
        "df.shape\n",
        "df.head()"
      ],
      "metadata": {
        "id": "5DXppP7IWYz0"
      },
      "execution_count": null,
      "outputs": []
    },
    {
      "cell_type": "code",
      "source": [
        "df[\"Taxable.Income\"].max()\n",
        "#df[\"Taxable.Income\"].min()\n"
      ],
      "metadata": {
        "id": "rlDL7vM3Wji3"
      },
      "execution_count": null,
      "outputs": []
    },
    {
      "cell_type": "code",
      "source": [
        "df1=df.copy()\n",
        "df1['Taxable_cat'] = pd.cut(x = df1['Taxable.Income'], bins = [10002,30000,99620], labels=['Risky','Good'], right = False)\n",
        "df1[\"Taxable_cat\"].value_counts()\n",
        "df1.head()"
      ],
      "metadata": {
        "id": "o7C-_3rNXQO4"
      },
      "execution_count": null,
      "outputs": []
    },
    {
      "cell_type": "code",
      "source": [
        "sns.heatmap(df.corr(), annot=True, fmt='.2g', cmap=\"viridis\",  linewidths=0.5, linecolor='black')"
      ],
      "metadata": {
        "id": "krmuhZ8vXvtN"
      },
      "execution_count": null,
      "outputs": []
    },
    {
      "cell_type": "code",
      "source": [
        "bp=df1.copy()\n",
        "fig, axes=plt.subplots(3,1,figsize=(12,10),sharex=False,sharey=False)\n",
        "sns.boxplot(x='Taxable.Income',data=bp,palette='crest',ax=axes[0])\n",
        "sns.boxplot(x=\"City.Population\",data=bp,palette='crest',ax=axes[1])\n",
        "sns.boxplot(x='Work.Experience',data=bp,palette='crest',ax=axes[2])"
      ],
      "metadata": {
        "id": "y4Yoenp8Ynml"
      },
      "execution_count": null,
      "outputs": []
    },
    {
      "cell_type": "code",
      "source": [
        "plt.figure(figsize=(8,8))\n",
        "sns.pairplot(df, palette='Set1')\n",
        "plt.show()"
      ],
      "metadata": {
        "id": "xxItb6BPZUV9"
      },
      "execution_count": null,
      "outputs": []
    },
    {
      "cell_type": "code",
      "source": [
        "sns.countplot(x='Taxable_cat', data=df1, palette = 'viridis',\n",
        "              order=df1['Taxable_cat'].value_counts().index)\n",
        "plt.xticks(fontsize = 12)\n",
        "plt.title('Risky or Good for Individual Taxable Income ')"
      ],
      "metadata": {
        "id": "5eqyDH1pZUQY"
      },
      "execution_count": null,
      "outputs": []
    },
    {
      "cell_type": "code",
      "source": [
        "sns.countplot(x='Marital.Status', data=df1, palette = 'viridis',\n",
        "              order=df1['Marital.Status'].value_counts().index)\n",
        "plt.xticks(fontsize = 12)\n",
        "plt.title('Marital Status ')"
      ],
      "metadata": {
        "id": "UNE72gE4ZUM_"
      },
      "execution_count": null,
      "outputs": []
    },
    {
      "cell_type": "code",
      "source": [
        "sns.countplot(x='Undergrad', data=df1, palette = 'viridis',\n",
        "              order=df1['Undergrad'].value_counts().index)\n",
        "plt.xticks(fontsize = 12)\n",
        "plt.title('Undergrad ')"
      ],
      "metadata": {
        "id": "NQkr0Tu3ZULV"
      },
      "execution_count": null,
      "outputs": []
    },
    {
      "cell_type": "code",
      "source": [
        "sns.countplot(x='Urban', data=df1, palette = 'viridis',\n",
        "              order=df1['Urban'].value_counts().index)\n",
        "plt.xticks(fontsize = 12)\n",
        "plt.title('Urban')"
      ],
      "metadata": {
        "id": "RFQwcFDGZUJH"
      },
      "execution_count": null,
      "outputs": []
    },
    {
      "cell_type": "code",
      "source": [
        "#Label Encoding\n",
        "from sklearn.preprocessing import LabelEncoder\n",
        "LE=LabelEncoder()\n",
        "\n",
        "df1[\"Taxable_cat\"]=LE.fit_transform(df1[\"Taxable_cat\"])\n",
        "df1[\"Urban\"]=LE.fit_transform(df1[\"Urban\"])\n",
        "df1[\"Undergrad\"]=LE.fit_transform(df1[\"Undergrad\"])\n",
        "df1[\"Marital.Status\"]=LE.fit_transform(df1[\"Marital.Status\"])\n",
        "\n",
        "df1.drop('Taxable.Income', axis=1,inplace=True)\n",
        "\n",
        "df1.head()"
      ],
      "metadata": {
        "id": "X4djpx2yfblE"
      },
      "execution_count": null,
      "outputs": []
    },
    {
      "cell_type": "code",
      "source": [
        "#Data Spliting\n",
        "X=df1.iloc[:,0:5]\n",
        "Y=df1[[\"Taxable_cat\"]]\n"
      ],
      "metadata": {
        "id": "zegnRSTKfn8g"
      },
      "execution_count": null,
      "outputs": []
    },
    {
      "cell_type": "code",
      "source": [
        "# data partition\n",
        "from sklearn.model_selection import train_test_split\n",
        "X_train,X_test,Y_train,Y_test  = train_test_split(X,Y, test_size=0.30)\n",
        "\n",
        "\n",
        "from sklearn.tree import DecisionTreeClassifier\n",
        "DT = DecisionTreeClassifier(max_depth=4)\n",
        "\n",
        "DT.fit(X_train,Y_train) # Bo + b1x1 + B2x2\n",
        "Y_pred_train = DT.predict(X_train)\n",
        "Y_pred_test = DT.predict(X_test)\n",
        "training_accuracy = accuracy_score(Y_train,Y_pred_train).round(3)\n",
        "test_accuracy = accuracy_score(Y_test,Y_pred_test).round(3)\n",
        "\n",
        "print(training_accuracy)\n",
        "print(test_accuracy)\n",
        "\n",
        "print(\"Number of Nodes\",DT.tree_.node_count)\n",
        "print(\"Level of Depth\",DT.tree_.max_depth)"
      ],
      "metadata": {
        "id": "TlUZqcnWfn4-"
      },
      "execution_count": null,
      "outputs": []
    },
    {
      "cell_type": "code",
      "source": [
        "# validation set method --> validaton hold-off method\n",
        "training_accuracy = []\n",
        "test_accuracy = []\n",
        "Tr = []\n",
        "Ts = []\n",
        "\n",
        "DT = DecisionTreeClassifier(max_depth=1)\n",
        "\n",
        "\n",
        "for i in range(1,101,1):\n",
        "    X_train,X_test,Y_train,Y_test  = train_test_split(X,Y, test_size=0.30, random_state=i)\n",
        "    DT.fit(X_train,Y_train)\n",
        "    Y_pred_train = DT.predict(X_train)\n",
        "    Y_pred_test = DT.predict(X_test)\n",
        "    training_accuracy.append(accuracy_score(Y_train,Y_pred_train).round(3))\n",
        "    test_accuracy.append(accuracy_score(Y_test,Y_pred_test).round(3))\n",
        "\n",
        "import numpy as np\n",
        "print(\"Average trianing accuray\",np.mean(training_accuracy).round(2))\n",
        "print(\"Average test accuray\",np.mean(test_accuracy).round(2))"
      ],
      "metadata": {
        "id": "G52GxW7_fn3H"
      },
      "execution_count": null,
      "outputs": []
    },
    {
      "cell_type": "code",
      "source": [
        "#Building Decision Tree Classifier using Entropy Criteria with Alpha values Post Pruning\n",
        "df1_entropy = DecisionTreeClassifier(criterion='entropy', random_state=0)\n",
        "df1_entropy.fit(X_train,Y_train)\n",
        "\n",
        "Y_pred_train = df1_entropy.predict(X_train)\n",
        "Y_pred_test = df1_entropy.predict(X_test)\n",
        "training_accuracy = accuracy_score(Y_train,Y_pred_train).round(3)\n",
        "test_accuracy = accuracy_score(Y_test,Y_pred_test).round(3)\n",
        "\n",
        "print(training_accuracy)\n",
        "print(test_accuracy)"
      ],
      "metadata": {
        "id": "iu8_0FDSfn04"
      },
      "execution_count": null,
      "outputs": []
    },
    {
      "cell_type": "code",
      "source": [
        "plt.figure(figsize=(12,8),dpi=500)\n",
        "tree.plot_tree(df1_entropy,filled=True)\n",
        "plt.show()"
      ],
      "metadata": {
        "id": "MV2OG0yYfnxf"
      },
      "execution_count": null,
      "outputs": []
    },
    {
      "cell_type": "code",
      "source": [
        "path = df1_entropy.cost_complexity_pruning_path(X_train, Y_train)\n",
        "ccp_alphas = path.ccp_alphas\n",
        "impurities = path.impurities\n",
        "\n",
        "clfs = []\n",
        "for ccp_alpha in ccp_alphas:\n",
        "    clf = DecisionTreeClassifier(criterion='entropy',random_state=0, ccp_alpha=ccp_alpha)\n",
        "    clf.fit(X_train, Y_train)\n",
        "    clfs.append(clf)\n",
        "print(\"Number of nodes in the last tree is: {} with ccp_alpha: {}\".format(clfs[-1].tree_.node_count, ccp_alphas[-1]))"
      ],
      "metadata": {
        "id": "pABa6LZgiNhp"
      },
      "execution_count": null,
      "outputs": []
    },
    {
      "cell_type": "code",
      "source": [
        "#Accuracy vs alpha for training and testing sets\n",
        "\n",
        "train_scores = [clf.score(X_train, Y_train) for clf in clfs]\n",
        "test_scores = [clf.score(X_test, Y_test) for clf in clfs]\n",
        "\n",
        "fig, ax = plt.subplots(figsize=(16,9))\n",
        "ax.set_xlabel(\"alpha\")\n",
        "ax.set_ylabel(\"accuracy\")\n",
        "ax.set_title(\"Accuracy vs alpha for training and testing sets\")\n",
        "ax.plot(ccp_alphas, train_scores, marker='o', label=\"train\",\n",
        "        drawstyle=\"steps-post\")\n",
        "ax.plot(ccp_alphas, test_scores, marker='o', label=\"test\",\n",
        "        drawstyle=\"steps-post\")\n",
        "ax.legend()\n",
        "plt.show()"
      ],
      "metadata": {
        "id": "Txz7u4lhizjP"
      },
      "execution_count": null,
      "outputs": []
    },
    {
      "cell_type": "code",
      "source": [
        "#Choosing the best value of cc_alpha where the testing and training accuracy are almost same or near or closer to each other\n",
        "clf = DecisionTreeClassifier(criterion='entropy',random_state=0, ccp_alpha=0.008543)\n",
        "clf.fit(X_train,Y_train)\n",
        "\n",
        "Y_pred_train = clf.predict(X_train)\n",
        "Y_pred_test = clf.predict(X_test)\n",
        "training_accuracy = accuracy_score(Y_train,Y_pred_train).round(3)\n",
        "test_accuracy = accuracy_score(Y_test,Y_pred_test).round(3)\n",
        "\n",
        "print(training_accuracy)\n",
        "print(test_accuracy)\n"
      ],
      "metadata": {
        "id": "lNEZcBG1izfy"
      },
      "execution_count": null,
      "outputs": []
    },
    {
      "cell_type": "code",
      "source": [
        "plt.figure(figsize=(15,10))\n",
        "tree.plot_tree(clf,filled=True)\n",
        "plt.show()"
      ],
      "metadata": {
        "id": "KkX1FWA1izdn"
      },
      "execution_count": null,
      "outputs": []
    },
    {
      "cell_type": "code",
      "source": [
        "#Building Decision Tree Classifier using Gini Criteria with Alpha values Post Pruning\n",
        "\n",
        "df1_gini = DecisionTreeClassifier(criterion='gini', random_state=0)\n",
        "df1_gini.fit(X_train,Y_train)\n",
        "\n",
        "Y_pred_train = df1_gini.predict(X_train)\n",
        "Y_pred_test = df1_gini.predict(X_test)\n",
        "training_accuracy = accuracy_score(Y_train,Y_pred_train).round(3)\n",
        "test_accuracy = accuracy_score(Y_test,Y_pred_test).round(3)\n",
        "\n",
        "print(training_accuracy)\n",
        "print(test_accuracy)\n"
      ],
      "metadata": {
        "id": "2WkU_XRYjeh0"
      },
      "execution_count": null,
      "outputs": []
    },
    {
      "cell_type": "code",
      "source": [
        "plt.figure(figsize=(12,8),dpi=500)\n",
        "tree.plot_tree(df1_gini,filled=True)\n",
        "plt.show()"
      ],
      "metadata": {
        "id": "DooRScfNjhZ2"
      },
      "execution_count": null,
      "outputs": []
    },
    {
      "cell_type": "code",
      "source": [
        "path = df1_gini.cost_complexity_pruning_path(X_train, Y_train)\n",
        "ccp_alphas = path.ccp_alphas\n",
        "impurities = path.impurities\n",
        "\n",
        "clfs = []\n",
        "for ccp_alpha in ccp_alphas:\n",
        "    clf = DecisionTreeClassifier(criterion='gini',random_state=0, ccp_alpha=ccp_alpha)\n",
        "    clf.fit(X_train, Y_train)\n",
        "    clfs.append(clf)\n",
        "print(\"Number of nodes in the last tree is: {} with ccp_alpha: {}\".format(clfs[-1].tree_.node_count, ccp_alphas[-1]))"
      ],
      "metadata": {
        "id": "CBk3AKXMjkbN"
      },
      "execution_count": null,
      "outputs": []
    },
    {
      "cell_type": "code",
      "source": [
        "#Accuracy vs alpha for training and testing sets\n",
        "\n",
        "train_scores = [clf.score(X_train, Y_train) for clf in clfs]\n",
        "test_scores = [clf.score(X_test, Y_test) for clf in clfs]\n",
        "\n",
        "fig, ax = plt.subplots(figsize=(16,9))\n",
        "ax.set_xlabel(\"alpha\")\n",
        "ax.set_ylabel(\"accuracy\")\n",
        "ax.set_title(\"Accuracy vs alpha for training and testing sets\")\n",
        "ax.plot(ccp_alphas, train_scores, marker='o', label=\"train\",\n",
        "        drawstyle=\"steps-post\")\n",
        "ax.plot(ccp_alphas, test_scores, marker='o', label=\"test\",\n",
        "        drawstyle=\"steps-post\")\n",
        "ax.legend()\n",
        "plt.show()"
      ],
      "metadata": {
        "id": "1wjspIirjq8M"
      },
      "execution_count": null,
      "outputs": []
    },
    {
      "cell_type": "code",
      "source": [
        "#Choosing the best value of cc_alpha where the testing and training accuracy are almost same or near or closer to each other\n",
        "clf = DecisionTreeClassifier(criterion='gini',random_state=0, ccp_alpha=0.00499)\n",
        "clf.fit(X_train,Y_train)\n",
        "\n",
        "Y_pred_train = clf.predict(X_train)\n",
        "Y_pred_test = clf.predict(X_test)\n",
        "training_accuracy = accuracy_score(Y_train,Y_pred_train).round(3)\n",
        "test_accuracy = accuracy_score(Y_test,Y_pred_test).round(3)\n",
        "\n",
        "print(training_accuracy)\n",
        "print(test_accuracy)"
      ],
      "metadata": {
        "id": "vGelJRrjjuf8"
      },
      "execution_count": null,
      "outputs": []
    },
    {
      "cell_type": "code",
      "source": [
        "plt.figure(figsize=(15,10))\n",
        "tree.plot_tree(clf,filled=True)\n",
        "plt.show()"
      ],
      "metadata": {
        "id": "AqUcdj_kj2W_"
      },
      "execution_count": null,
      "outputs": []
    },
    {
      "cell_type": "code",
      "source": [],
      "metadata": {
        "id": "0AZmg4iFj5Js"
      },
      "execution_count": null,
      "outputs": []
    }
  ]
}